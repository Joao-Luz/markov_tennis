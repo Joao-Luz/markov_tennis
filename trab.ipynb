{
 "cells": [
  {
   "cell_type": "code",
   "execution_count": 119,
   "metadata": {},
   "outputs": [],
   "source": [
    "import numpy as np\n",
    "import pandas as pd\n",
    "import random\n",
    "from simulate_matches import simulate_matches\n",
    "from utils import *\n",
    "from probabilities import *\n",
    "import matplotlib.pyplot as plt\n",
    "from scipy.special import comb\n",
    "\n",
    "random.seed(42)"
   ]
  },
  {
   "cell_type": "markdown",
   "metadata": {},
   "source": [
    "## Partida 1\n",
    "Nessa partida, $p=0.75$ e, consequentemente, $q=0.25$"
   ]
  },
  {
   "cell_type": "code",
   "execution_count": 2,
   "metadata": {},
   "outputs": [],
   "source": [
    "p1 = 0.75\n",
    "simulate_matches('matches_1.csv', p1, 120)\n",
    "df_1 = pd.read_csv('matches_1.csv')"
   ]
  },
  {
   "cell_type": "markdown",
   "metadata": {},
   "source": [
    "### Caracterização inicial"
   ]
  },
  {
   "cell_type": "code",
   "execution_count": 14,
   "metadata": {},
   "outputs": [
    {
     "name": "stdout",
     "output_type": "stream",
     "text": [
      "A won 100.00% matches\n",
      "B won 0.00% matches\n"
     ]
    }
   ],
   "source": [
    "a, b = matches_won(df_1)\n",
    "\n",
    "print(f'A won {100*a/(a+b):.2f}% matches')\n",
    "print(f'B won {100*b/(a+b):.2f}% matches')"
   ]
  },
  {
   "cell_type": "code",
   "execution_count": 15,
   "metadata": {},
   "outputs": [
    {
     "name": "stdout",
     "output_type": "stream",
     "text": [
      "A won 100.00% of the sets\n",
      "B won 0.00% of the sets\n"
     ]
    }
   ],
   "source": [
    "a, b = sets_won(df_1)\n",
    "\n",
    "print(f'A won {100*a/(a+b):.2f}% of the sets')\n",
    "print(f'B won {100*b/(a+b):.2f}% of the sets')"
   ]
  },
  {
   "cell_type": "code",
   "execution_count": 16,
   "metadata": {},
   "outputs": [
    {
     "name": "stdout",
     "output_type": "stream",
     "text": [
      "A won 94.24% of the games\n",
      "B won 5.76% of the games\n"
     ]
    }
   ],
   "source": [
    "a, b = games_won(df_1)\n",
    "\n",
    "print(f'A won {100*a/(a+b):.2f}% of the games')\n",
    "print(f'B won {100*b/(a+b):.2f}% of the games')"
   ]
  },
  {
   "cell_type": "code",
   "execution_count": 17,
   "metadata": {},
   "outputs": [
    {
     "name": "stdout",
     "output_type": "stream",
     "text": [
      "A scored 74.63% of the points\n",
      "B scored 25.37% of the points\n"
     ]
    }
   ],
   "source": [
    "a, b = points_scored(df_1)\n",
    "\n",
    "print(f'A scored {100*a/(a+b):.2f}% of the points')\n",
    "print(f'B scored {100*b/(a+b):.2f}% of the points')"
   ]
  },
  {
   "cell_type": "markdown",
   "metadata": {},
   "source": [
    "### Análise das vitórias dos jogadores"
   ]
  },
  {
   "cell_type": "markdown",
   "metadata": {},
   "source": [
    "Vamos fazer uma análise da probabilidade de cada jogador ganhar na partida 1. Para isso, vamos dividir o nosso dataset em 3 e verificar, de 3 em 3 partidas, quantas o jogador A e o jogador B ganham:"
   ]
  },
  {
   "cell_type": "code",
   "execution_count": 141,
   "metadata": {},
   "outputs": [
    {
     "name": "stdout",
     "output_type": "stream",
     "text": [
      "Player A won 120 and Player B won 0\n"
     ]
    }
   ],
   "source": [
    "n = len(df_1['match'].unique())//3\n",
    "\n",
    "won_a_1_120 = np.ndarray(n, dtype=int)\n",
    "won_b_1_120 = np.ndarray(n, dtype=int)\n",
    "\n",
    "for i in range(n):\n",
    "    matches = df_1[df_1['match'].isin([3*i, 3*i+1, 3*i+2])]\n",
    "    (won_a_1_120[i], won_b_1_120[i]) = matches_won(matches)\n",
    "\n",
    "print(f'Player A won {np.sum(won_a_1_120)} and Player B won {np.sum(won_b_1_120)}')"
   ]
  },
  {
   "cell_type": "markdown",
   "metadata": {},
   "source": [
    "Vamos calcular o valor médio de vitórias a cada 3 partidas, assim como o desvio padrão para a nossa amostra"
   ]
  },
  {
   "cell_type": "code",
   "execution_count": 4,
   "metadata": {},
   "outputs": [
    {
     "name": "stdout",
     "output_type": "stream",
     "text": [
      "A's average: 3.0\n",
      "A's standard deviation: 0.0\n",
      "B's average: 0.0\n",
      "B's standard deviation: 0.0\n"
     ]
    }
   ],
   "source": [
    "print(f'A\\'s average: {np.mean(won_a_1_120)}\\nA\\'s standard deviation: {np.std(won_a_1_120)}')\n",
    "print(f'B\\'s average: {np.mean(won_b_1_120)}\\nB\\'s standard deviation: {np.std(won_b_1_120)}')"
   ]
  },
  {
   "cell_type": "markdown",
   "metadata": {},
   "source": [
    "Como podemos ver, em 3 partidas, é esperado que o jogador A ganhe as 3, enquanto o jogador B não ganha nenhuma. Em ambos os casos, o desvio padrão é 0, o que significa que A ou ganha as 3 partidas sempre ou que ele ganha com tanta frequência que a nossa amostra não foi capaz de capturar um caso em que ele perde. O mesmo vale para B."
   ]
  },
  {
   "cell_type": "markdown",
   "metadata": {},
   "source": [
    "### Probabilidades analíticas"
   ]
  },
  {
   "cell_type": "markdown",
   "metadata": {},
   "source": [
    "Vamos analisar o jogo como uma Cadeia de Markov e calcular a probabilidade real dos jogadores ganharem as partidas:"
   ]
  },
  {
   "cell_type": "code",
   "execution_count": 5,
   "metadata": {},
   "outputs": [
    {
     "name": "stdout",
     "output_type": "stream",
     "text": [
      "Probability of A to win a match: 0.9999999999999997\n",
      "Probability of B to win a match: 3.3306690738754696e-16\n"
     ]
    }
   ],
   "source": [
    "pa1 = match_probability(p=p1)\n",
    "pb1 = 1-pa1\n",
    "print(f'Probability of A to win a match: {pa1}')\n",
    "print(f'Probability of B to win a match: {pb1}')"
   ]
  },
  {
   "cell_type": "markdown",
   "metadata": {},
   "source": [
    "A probabilidade de um jogador ganhar a partida é dada por $ \\mu = \\sum {x_i*P(x_i)} $, sendo que $P(x_i)$ é a probabilidade do jogador ganhar um número $x_i$ de partidas (nesse caso, $x_i = i$). Essas probabilidade são, para o jogador A e B respectivamente, dadas pelas seguintes expressões:\n",
    "\n",
    "$$ P_A(x_i) = \\binom{3}{i}(1-p_a)^{3-i}*p_a^i,\\space i=0,1,2,3 $$\n",
    "$$ P_B(x_i) = \\binom{3}{i}(1-p_a)^i*p_a^{3-i},\\space i=0,1,2,3 $$\n",
    "\n",
    "Onde $p_a$ é a probabilidade do jogador A ganhar uma partida. O desvio padrão é dado por $ \\sigma = \\sqrt { \\sum {(x_i - \\mu)^2*P(x_i)} } $, onde $\\mu$ é o valor médio do número de partidas ganhas. Uma análise analítica mais aprofundada sobre pontos, games, sets e partidas com possibilidade de tie break pode ser encontrada no [link](https://datagenetics.com/blog/august12018/index.html).\n",
    "\n",
    "Vamos, então, computar os valores médios e desvios padrões reais para A e B:"
   ]
  },
  {
   "cell_type": "code",
   "execution_count": 6,
   "metadata": {},
   "outputs": [
    {
     "name": "stdout",
     "output_type": "stream",
     "text": [
      "A's real average: 3.0000e+00\n",
      "A's real standard deviation: 3.1610e-08\n",
      "B's real average: 9.9920e-16\n",
      "B's real standard deviation: 3.1610e-08\n"
     ]
    }
   ],
   "source": [
    "x = [0, 1, 2, 3]\n",
    "pa = [prob_n_outof(xi, 3, pa1) for xi in x]\n",
    "pb = list(reversed(pa))\n",
    "\n",
    "mean_a = np.sum([xi*pi for pi,xi in zip(pa,x)])\n",
    "mean_b = np.sum([xi*pi for pi,xi in zip(pb,x)])\n",
    "\n",
    "std_a = (np.sum([ (xi - mean_a)**2*pi for pi,xi in zip(pa,x) ]))**0.5\n",
    "std_b = (np.sum([ (xi - mean_b)**2*pi for pi,xi in zip(pb,x) ]))**0.5\n",
    "\n",
    "print(f'A\\'s real average: {mean_a:.4e}\\nA\\'s real standard deviation: {std_a:.4e}')\n",
    "print(f'B\\'s real average: {mean_b:.4e}\\nB\\'s real standard deviation: {std_b:.4e}')"
   ]
  },
  {
   "cell_type": "markdown",
   "metadata": {},
   "source": [
    "Percebemos que, realmente, o valor médio de partidas ganhas é muito próximo de 3 para A e muito próximo de 0 para B. O desvio padrão para ambos é, também, muito próximo de 0.\n",
    "\n",
    "Vamos observar a relação entre $p$ e $p_a$ (além da probabilidade de se ganhar um game e um set):"
   ]
  },
  {
   "cell_type": "code",
   "execution_count": 7,
   "metadata": {},
   "outputs": [
    {
     "data": {
      "image/png": "[encoded data removed]",
      "text/plain": [
       "<Figure size 432x288 with 1 Axes>"
      ]
     },
     "metadata": {
      "needs_background": "light"
     },
     "output_type": "display_data"
    }
   ],
   "source": [
    "ps = np.arange(0, 1, 0.001)\n",
    "pas = np.array([match_probability(p) for p in ps])\n",
    "pss = np.array([set_probability(p) for p in ps])\n",
    "pgs = np.array([game_probability(p) for p in ps])\n",
    "\n",
    "fig, ax = plt.subplots()\n",
    "ax.plot(ps, ps, label='Scores');\n",
    "ax.plot(ps, pgs, label='Game');\n",
    "ax.plot(ps, pss, label='Set');\n",
    "ax.plot(ps, pas, label='Match');\n",
    "\n",
    "ax.legend();\n",
    "ax.set_title('Probabilities for given $p$');\n",
    "ax.set_xlabel('$p$');\n",
    "ax.set_ylabel('Probability');\n",
    "ax.grid()"
   ]
  },
  {
   "cell_type": "markdown",
   "metadata": {},
   "source": [
    "Como podemos ver, a probabilidade do jogador ganhar a partida é extremamente sensível à diferença de habilidade dos jogadores $p$. Além disso, percebemos que a sensibilidade à $p$ aumenta quando observamos a probabilidade de se ganhar um ponto, um jogo e um set."
   ]
  },
  {
   "cell_type": "markdown",
   "metadata": {},
   "source": [
    "### Análise de sets, games e pontos"
   ]
  },
  {
   "cell_type": "markdown",
   "metadata": {},
   "source": [
    "Podemos realizar também análises individuais a cerca dos sets, games e pontos, verificando o impacto da diferença entre os jogadores nos resultados."
   ]
  },
  {
   "cell_type": "code",
   "execution_count": 142,
   "metadata": {},
   "outputs": [
    {
     "name": "stdout",
     "output_type": "stream",
     "text": [
      "Player A won 100.00% sets and Player B won 0.00% sets\n",
      "Player A won 95.36% games and Player B won 4.64% games\n",
      "Player A won 75.36% points and Player B won 24.64% points\n"
     ]
    }
   ],
   "source": [
    "n = 120\n",
    "\n",
    "set_a_1_120 = np.ndarray(n, dtype=int)\n",
    "set_b_1_120 = np.ndarray(n, dtype=int)\n",
    "\n",
    "game_a_1_120 = np.ndarray(n, dtype=int)\n",
    "game_b_1_120 = np.ndarray(n, dtype=int)\n",
    "\n",
    "point_a_1_120 = np.ndarray(n, dtype=int)\n",
    "point_b_1_120 = np.ndarray(n, dtype=int)\n",
    "\n",
    "for i in range(n):\n",
    "    matches = df_1[df_1['match'] == i]\n",
    "    (set_a_1_120[i], set_b_1_120[i]) = sets_won(matches)\n",
    "    (game_a_1_120[i],game_b_1_120[i]) = games_won(matches)\n",
    "    (point_a_1_120[i],point_b_1_120[i]) = points_scored(matches)\n",
    "\n",
    "print(f'Player A won {100*np.sum(set_a_1_120)/(np.sum(set_a_1_120) + np.sum(set_b_1_120)):.2f}% sets and Player B won {100*np.sum(set_b_1_120)/(np.sum(set_a_1_120) + np.sum(set_b_1_120)):.2f}% sets')\n",
    "print(f'Player A won {100*np.sum(game_a_1_120)/(np.sum(game_a_1_120) + np.sum(game_b_1_120)):.2f}% games and Player B won {100*np.sum(game_b_1_120)/(np.sum(game_a_1_120) + np.sum(game_b_1_120)):.2f}% games')\n",
    "print(f'Player A won {100*np.sum(point_a_1_120)/(np.sum(point_a_1_120) + np.sum(point_b_1_120)):.2f}% points and Player B won {100*np.sum(point_b_1_120)/(np.sum(point_a_1_120) + np.sum(point_b_1_120)):.2f}% points')"
   ]
  },
  {
   "cell_type": "markdown",
   "metadata": {},
   "source": [
    "Observa-se que além de perder todos os jogos, o segundo jogador também perdeu todos os sets. Nos games é possível observar os primeiros resultados positivos deste jogador, e nos pontos tem-se uma proporção próxima da probabilidade de cada jogador."
   ]
  },
  {
   "cell_type": "code",
   "execution_count": 143,
   "metadata": {},
   "outputs": [
    {
     "name": "stdout",
     "output_type": "stream",
     "text": [
      "A's average: 2.00\n",
      "A's standard deviation: 0.00\n",
      "B's average: 0.00\n",
      "B's standard deviation: 0.00\n"
     ]
    }
   ],
   "source": [
    "print(f'A\\'s average: {np.mean(set_a_1_120):.2f}\\nA\\'s standard deviation: {np.std(set_a_1_120):.2f}')\n",
    "print(f'B\\'s average: {np.mean(set_b_1_120):.2f}\\nB\\'s standard deviation: {np.std(set_b_1_120):.2f}')"
   ]
  },
  {
   "cell_type": "markdown",
   "metadata": {},
   "source": [
    "O resultado acima é o esperado, visto que o jogador B não ganhou nenhum set. Já observando os games, podemos notar diferenças:"
   ]
  },
  {
   "cell_type": "code",
   "execution_count": 144,
   "metadata": {},
   "outputs": [
    {
     "name": "stdout",
     "output_type": "stream",
     "text": [
      "A's average: 12.00\n",
      "A's standard deviation: 0.00\n",
      "B's average: 0.58\n",
      "B's standard deviation: 0.85\n"
     ]
    }
   ],
   "source": [
    "print(f'A\\'s average: {np.mean(game_a_1_120):.2f}\\nA\\'s standard deviation: {np.std(game_a_1_120):.2f}')\n",
    "print(f'B\\'s average: {np.mean(game_b_1_120):.2f}\\nB\\'s standard deviation: {np.std(game_b_1_120):.2f}')"
   ]
  },
  {
   "cell_type": "markdown",
   "metadata": {},
   "source": [
    "Já é possível perceber valores de média para B diferentes de 0, porém ainda muito baixos em relação ao jogador vencedor. Nos pontos tem-se maior proximidade entre os jogadores:"
   ]
  },
  {
   "cell_type": "code",
   "execution_count": 145,
   "metadata": {},
   "outputs": [
    {
     "name": "stdout",
     "output_type": "stream",
     "text": [
      "A's average: 51.50\n",
      "A's standard deviation: 3.00\n",
      "B's average: 16.84\n",
      "B's standard deviation: 5.97\n"
     ]
    }
   ],
   "source": [
    "print(f'A\\'s average: {np.mean(point_a_1_120):.2f}\\nA\\'s standard deviation: {np.std(point_a_1_120):.2f}')\n",
    "print(f'B\\'s average: {np.mean(point_b_1_120):.2f}\\nB\\'s standard deviation: {np.std(point_b_1_120):.2f}')"
   ]
  },
  {
   "cell_type": "code",
   "execution_count": 146,
   "metadata": {},
   "outputs": [
    {
     "data": {
      "image/png": "[encoded data removed]",
      "text/plain": [
       "<Figure size 576x288 with 3 Axes>"
      ]
     },
     "metadata": {
      "needs_background": "light"
     },
     "output_type": "display_data"
    }
   ],
   "source": [
    "fig, ax = plt.subplots(ncols=3, figsize=(8, 4))\n",
    "\n",
    "ax[0].boxplot([set_a_1_120, set_b_1_120], labels=['A', 'B']);\n",
    "ax[0].set_title('Sets distribution')\n",
    "\n",
    "ax[1].boxplot([game_a_1_120, game_b_1_120], labels=['A', 'B']);\n",
    "ax[1].set_title('Games distribution')\n",
    "\n",
    "ax[2].boxplot([point_a_1_120, point_b_1_120], labels=['A', 'B']);\n",
    "ax[2].set_title('Points distribution');"
   ]
  },
  {
   "cell_type": "markdown",
   "metadata": {},
   "source": [
    "E assim podemos concluir que uma probabilidade maior de marcar pontos contra o adversário resulta em probabilidades ainda muito mais expressivas de vitória quando relacionadas a partes maiores do jogo, como games e sets."
   ]
  },
  {
   "cell_type": "markdown",
   "metadata": {},
   "source": [
    "## Partida 2\n",
    "Agora, $p=0.52$ e $q=0.48$"
   ]
  },
  {
   "cell_type": "code",
   "execution_count": 12,
   "metadata": {},
   "outputs": [],
   "source": [
    "p2 = 0.52\n",
    "simulate_matches('matches_2.csv', p2, 120)\n",
    "df_2 = pd.read_csv('matches_2.csv')"
   ]
  },
  {
   "cell_type": "markdown",
   "metadata": {},
   "source": [
    "### Caracterização inicial"
   ]
  },
  {
   "cell_type": "code",
   "execution_count": 13,
   "metadata": {},
   "outputs": [
    {
     "name": "stdout",
     "output_type": "stream",
     "text": [
      "A won 70.00% of the matches\n",
      "B won 30.00% of the matches\n"
     ]
    }
   ],
   "source": [
    "a, b = matches_won(df_2)\n",
    "\n",
    "print(f'A won {100*a/(a+b):.2f}% of the matches')\n",
    "print(f'B won {100*b/(a+b):.2f}% of the matches')"
   ]
  },
  {
   "cell_type": "code",
   "execution_count": 14,
   "metadata": {},
   "outputs": [
    {
     "name": "stdout",
     "output_type": "stream",
     "text": [
      "A won 64.00% of the sets\n",
      "B won 36.00% of the sets\n"
     ]
    }
   ],
   "source": [
    "a, b = sets_won(df_2)\n",
    "\n",
    "print(f'A won {100*a/(a+b):.2f}% of the sets')\n",
    "print(f'B won {100*b/(a+b):.2f}% of the sets')"
   ]
  },
  {
   "cell_type": "code",
   "execution_count": 15,
   "metadata": {},
   "outputs": [
    {
     "name": "stdout",
     "output_type": "stream",
     "text": [
      "A won 55.01% of the games\n",
      "B won 44.99% of the games\n"
     ]
    }
   ],
   "source": [
    "a, b = games_won(df_2)\n",
    "\n",
    "print(f'A won {100*a/(a+b):.2f}% of the games')\n",
    "print(f'B won {100*b/(a+b):.2f}% of the games')"
   ]
  },
  {
   "cell_type": "code",
   "execution_count": 16,
   "metadata": {},
   "outputs": [
    {
     "name": "stdout",
     "output_type": "stream",
     "text": [
      "A scored 52.02% of the points\n",
      "B scored 47.98% of the points\n"
     ]
    }
   ],
   "source": [
    "a, b = points_scored(df_2)\n",
    "\n",
    "print(f'A scored {100*a/(a+b):.2f}% of the points')\n",
    "print(f'B scored {100*b/(a+b):.2f}% of the points')"
   ]
  },
  {
   "cell_type": "markdown",
   "metadata": {},
   "source": [
    "### Análise do número de vitórias para a partida 2"
   ]
  },
  {
   "cell_type": "code",
   "execution_count": 147,
   "metadata": {},
   "outputs": [
    {
     "name": "stdout",
     "output_type": "stream",
     "text": [
      "Player A won 84 and Player B won 36\n"
     ]
    }
   ],
   "source": [
    "n = len(df_2['match'].unique())//3\n",
    "\n",
    "won_a_2_120 = np.ndarray(n, dtype=int)\n",
    "won_b_2_120 = np.ndarray(n, dtype=int)\n",
    "\n",
    "for i in range(n):\n",
    "    matches = df_2[df_2['match'].isin([3*i, 3*i+1, 3*i+2])]\n",
    "    (won_a_2_120[i], won_b_2_120[i]) = matches_won(matches)\n",
    "\n",
    "print(f'Player A won {np.sum(won_a_2_120)} and Player B won {np.sum(won_b_2_120)}')"
   ]
  },
  {
   "cell_type": "markdown",
   "metadata": {},
   "source": [
    "Vamos verificar a média de vitórias em cada 3 partidas para $p=0.52$"
   ]
  },
  {
   "cell_type": "code",
   "execution_count": 148,
   "metadata": {},
   "outputs": [
    {
     "name": "stdout",
     "output_type": "stream",
     "text": [
      "A's average: 2.1000\n",
      "A's standard deviation: 0.8307\n",
      "B's average: 0.9000\n",
      "B's standard deviation: 0.8307\n"
     ]
    }
   ],
   "source": [
    "print(f'A\\'s average: {np.mean(won_a_2_120):.4f}\\nA\\'s standard deviation: {np.std(won_a_2_120):.4f}')\n",
    "print(f'B\\'s average: {np.mean(won_b_2_120):.4f}\\nB\\'s standard deviation: {np.std(won_b_2_120):.4f}')"
   ]
  },
  {
   "cell_type": "code",
   "execution_count": 149,
   "metadata": {},
   "outputs": [
    {
     "data": {
      "image/png": "[encoded data removed]",
      "text/plain": [
       "<Figure size 432x288 with 1 Axes>"
      ]
     },
     "metadata": {
      "needs_background": "light"
     },
     "output_type": "display_data"
    }
   ],
   "source": [
    "fig, ax = plt.subplots()\n",
    "\n",
    "ax.boxplot([won_a_2_120, won_b_2_120], labels=['A', 'B']);\n",
    "ax.set_title('Match distribution');"
   ]
  },
  {
   "cell_type": "markdown",
   "metadata": {},
   "source": [
    "Percebemos que, agora, os dois jogadores possuem habilidades bem similares, o que significa que o jogador B possui muito mais chances de vencer. Ainda assim, o jogador A possui muita vantagem em cima do jogador B, ganhando 2 em 3 partidas."
   ]
  },
  {
   "cell_type": "markdown",
   "metadata": {},
   "source": [
    "### Valores reais de probabilidade"
   ]
  },
  {
   "cell_type": "markdown",
   "metadata": {},
   "source": [
    "Novamente, vamos calcular analiticamente a média de jogos ganhos dentre os 3:"
   ]
  },
  {
   "cell_type": "code",
   "execution_count": 150,
   "metadata": {},
   "outputs": [
    {
     "name": "stdout",
     "output_type": "stream",
     "text": [
      "Probability of A to win a match: 0.7493\n",
      "Probability of B to win a match: 0.2507\n"
     ]
    }
   ],
   "source": [
    "p2a = match_probability(p=0.52)\n",
    "p2b = 1-p2a\n",
    "print(f'Probability of A to win a match: {p2a:.4f}')\n",
    "print(f'Probability of B to win a match: {p2b:.4f}')"
   ]
  },
  {
   "cell_type": "code",
   "execution_count": 72,
   "metadata": {},
   "outputs": [
    {
     "name": "stdout",
     "output_type": "stream",
     "text": [
      "A's real average: 2.2478\n",
      "A's real standard deviation: 0.7507\n",
      "B's real average: 0.7522\n",
      "B's real standard deviation: 0.7507\n"
     ]
    }
   ],
   "source": [
    "x = [0, 1, 2, 3]\n",
    "pa = [prob_n_outof(xi, 3, p2a) for xi in x]\n",
    "pb = list(reversed(pa))\n",
    "\n",
    "mean_a = np.sum([xi*pi for pi,xi in zip(pa,x)])\n",
    "mean_b = np.sum([xi*pi for pi,xi in zip(pb,x)])\n",
    "\n",
    "\n",
    "std_a = (np.sum([ (xi - mean_a)**2*pi for pi,xi in zip(pa,x) ]))**0.5\n",
    "std_b = (np.sum([ (xi - mean_b)**2*pi for pi,xi in zip(pb,x) ]))**0.5\n",
    "\n",
    "print(f'A\\'s real average: {mean_a:.4f}\\nA\\'s real standard deviation: {std_a:.4f}')\n",
    "print(f'B\\'s real average: {mean_b:.4f}\\nB\\'s real standard deviation: {std_b:.4f}')"
   ]
  },
  {
   "cell_type": "markdown",
   "metadata": {},
   "source": [
    "Percebemos que os valores obtidos da análise da simulação é bem próximo do que foi obtido analiticamente.\n",
    "\n",
    "Novamente, observamos a sensibilidade da vitória à probabilidade $p$. Com uma diferença de apenas $0.04$ de habilidade, o jogador A consegue vencer pelo menos duas partidas em cada 3."
   ]
  },
  {
   "cell_type": "markdown",
   "metadata": {},
   "source": [
    "### Análise de sets, games e pontos para a partida 2"
   ]
  },
  {
   "cell_type": "markdown",
   "metadata": {},
   "source": [
    "Como realizado na partida 1, verificaremos os efeitos das probabilidades de ponto na quantidade de sets, games e pontos ganhos na partida 2."
   ]
  },
  {
   "cell_type": "code",
   "execution_count": 151,
   "metadata": {},
   "outputs": [
    {
     "name": "stdout",
     "output_type": "stream",
     "text": [
      "Player A won 64.00% sets and Player B won 36.00% sets\n",
      "Player A won 55.01% games and Player B won 44.99% games\n",
      "Player A won 52.02% points and Player B won 47.98% points\n"
     ]
    }
   ],
   "source": [
    "n=120\n",
    "\n",
    "set_a_2_120 = np.ndarray(n, dtype=int)\n",
    "set_b_2_120 = np.ndarray(n, dtype=int)\n",
    "\n",
    "game_a_2_120 = np.ndarray(n, dtype=int)\n",
    "game_b_2_120 = np.ndarray(n, dtype=int)\n",
    "\n",
    "point_a_2_120 = np.ndarray(n, dtype=int)\n",
    "point_b_2_120 = np.ndarray(n, dtype=int)\n",
    "\n",
    "for i in range(n):\n",
    "    matches = df_2[df_2['match'] == i]\n",
    "    (set_a_2_120[i], set_b_2_120[i]) = sets_won(matches)\n",
    "    (game_a_2_120[i],game_b_2_120[i]) = games_won(matches)\n",
    "    (point_a_2_120[i],point_b_2_120[i]) = points_scored(matches)\n",
    "\n",
    "print(f'Player A won {100*np.sum(set_a_2_120)/(np.sum(set_a_2_120) + np.sum(set_b_2_120)):.2f}% sets and Player B won {100*np.sum(set_b_2_120)/(np.sum(set_a_2_120) + np.sum(set_b_2_120)):.2f}% sets')\n",
    "print(f'Player A won {100*np.sum(game_a_2_120)/(np.sum(game_a_2_120) + np.sum(game_b_2_120)):.2f}% games and Player B won {100*np.sum(game_b_2_120)/(np.sum(game_a_2_120) + np.sum(game_b_2_120)):.2f}% games')\n",
    "print(f'Player A won {100*np.sum(point_a_2_120)/(np.sum(point_a_2_120) + np.sum(point_b_2_120)):.2f}% points and Player B won {100*np.sum(point_b_2_120)/(np.sum(point_a_2_120) + np.sum(point_b_2_120)):.2f}% points')"
   ]
  },
  {
   "cell_type": "markdown",
   "metadata": {},
   "source": [
    "Percebe-se que as probabilidades próximas também aproximam consideravelmente as vitórias dentro do jogo em níveis além da partida, apresentando resultados interessantes."
   ]
  },
  {
   "cell_type": "code",
   "execution_count": 152,
   "metadata": {},
   "outputs": [
    {
     "name": "stdout",
     "output_type": "stream",
     "text": [
      "A's average: 1.60\n",
      "A's standard deviation: 0.66\n",
      "B's average: 0.90\n",
      "B's standard deviation: 0.83\n"
     ]
    }
   ],
   "source": [
    "print(f'A\\'s average: {np.mean(set_a_2_120):.2f}\\nA\\'s standard deviation: {np.std(set_a_2_120):.2f}')\n",
    "print(f'B\\'s average: {np.mean(set_b_2_120):.2f}\\nB\\'s standard deviation: {np.std(set_b_2_120):.2f}')"
   ]
  },
  {
   "cell_type": "markdown",
   "metadata": {},
   "source": [
    "Nos sets conseguimos observar valores não tão distantes de média e muito próximos de desvio padrão, mostrando assim regularidade nas simulações. Podemos com isso, esperar comportamento semelhante nos games e pontos:"
   ]
  },
  {
   "cell_type": "code",
   "execution_count": 153,
   "metadata": {},
   "outputs": [
    {
     "name": "stdout",
     "output_type": "stream",
     "text": [
      "A's average: 13.14\n",
      "A's standard deviation: 3.01\n",
      "B's average: 10.75\n",
      "B's standard deviation: 4.41\n"
     ]
    }
   ],
   "source": [
    "print(f'A\\'s average: {np.mean(game_a_2_120):.2f}\\nA\\'s standard deviation: {np.std(game_a_2_120):.2f}')\n",
    "print(f'B\\'s average: {np.mean(game_b_2_120):.2f}\\nB\\'s standard deviation: {np.std(game_b_2_120):.2f}')"
   ]
  },
  {
   "cell_type": "code",
   "execution_count": 154,
   "metadata": {},
   "outputs": [
    {
     "name": "stdout",
     "output_type": "stream",
     "text": [
      "A's average: 83.38\n",
      "A's standard deviation: 20.47\n",
      "B's average: 76.90\n",
      "B's standard deviation: 24.36\n"
     ]
    }
   ],
   "source": [
    "print(f'A\\'s average: {np.mean(point_a_2_120):.2f}\\nA\\'s standard deviation: {np.std(point_a_2_120):.2f}')\n",
    "print(f'B\\'s average: {np.mean(point_b_2_120):.2f}\\nB\\'s standard deviation: {np.std(point_b_2_120):.2f}')"
   ]
  },
  {
   "cell_type": "code",
   "execution_count": 155,
   "metadata": {},
   "outputs": [
    {
     "data": {
      "image/png": "[encoded data removed]",
      "text/plain": [
       "<Figure size 576x288 with 3 Axes>"
      ]
     },
     "metadata": {
      "needs_background": "light"
     },
     "output_type": "display_data"
    }
   ],
   "source": [
    "fig, ax = plt.subplots(ncols=3, figsize=(8, 4))\n",
    "\n",
    "ax[0].boxplot([set_a_2_120, set_b_2_120], labels=['A', 'B']);\n",
    "ax[0].set_title('Sets distribution')\n",
    "\n",
    "ax[1].boxplot([game_a_2_120, game_b_2_120], labels=['A', 'B']);\n",
    "ax[1].set_title('Games distribution')\n",
    "\n",
    "ax[2].boxplot([point_a_2_120, point_b_2_120], labels=['A', 'B']);\n",
    "ax[2].set_title('Points distribution');"
   ]
  },
  {
   "cell_type": "markdown",
   "metadata": {},
   "source": [
    "Como esperado, conseguimos ver que as médias e os desvios entre os dois jogadores são próximos em todas as medidas, demonstrando assim consistência nos resultados obtidos pela simulação."
   ]
  },
  {
   "cell_type": "markdown",
   "metadata": {},
   "source": [
    "## Análise com 12 amostras"
   ]
  },
  {
   "cell_type": "markdown",
   "metadata": {},
   "source": [
    "Realizaremos agora análises com apenas 12 amostras, com o intuito de observar como a limitação do número de simulações pode afetar nos resultados finais de média e desvio padrão."
   ]
  },
  {
   "cell_type": "markdown",
   "metadata": {},
   "source": [
    "### Partida 1"
   ]
  },
  {
   "cell_type": "code",
   "execution_count": 156,
   "metadata": {},
   "outputs": [
    {
     "name": "stdout",
     "output_type": "stream",
     "text": [
      "Player A won 12 matches and Player B won 0 matches\n",
      "Player A won 24 sets and Player B won 0 sets\n",
      "Player A won 144 games and Player B won 13 games\n",
      "Player A won 628 points and Player B won 225 points\n"
     ]
    }
   ],
   "source": [
    "won_a_1_12 = np.ndarray(4, dtype=int)\n",
    "won_b_1_12 = np.ndarray(4, dtype=int)\n",
    "\n",
    "set_a_1_12 = np.ndarray(12, dtype=int)\n",
    "set_b_1_12 = np.ndarray(12, dtype=int)\n",
    "\n",
    "game_a_1_12 = np.ndarray(12, dtype=int)\n",
    "game_b_1_12 = np.ndarray(12, dtype=int)\n",
    "\n",
    "point_a_1_12 = np.ndarray(12, dtype=int)\n",
    "point_b_1_12 = np.ndarray(12, dtype=int)\n",
    "\n",
    "random.seed(42)\n",
    "samples = random.sample(range(0, 120), 12)\n",
    "\n",
    "for i in range(4):\n",
    "  matches = df_1[df_1['match'].isin([samples[i*3], samples[i*3+1], samples[i*3+2]])]\n",
    "  (won_a_1_12[i], won_b_1_12[i]) = matches_won(matches)\n",
    "\n",
    "for i in range(12):\n",
    "  matches = df_1[df_1['match'] == samples[i]]\n",
    "  (set_a_1_12[i], set_b_1_12[i]) = sets_won(matches)\n",
    "  (game_a_1_12[i],game_b_1_12[i]) = games_won(matches)\n",
    "  (point_a_1_12[i],point_b_1_12[i]) = points_scored(matches)\n",
    "\n",
    "print(f'Player A won {np.sum(won_a_1_12)} matches and Player B won {np.sum(won_b_1_12)} matches')\n",
    "print(f'Player A won {np.sum(set_a_1_12)} sets and Player B won {np.sum(set_b_1_12)} sets')\n",
    "print(f'Player A won {np.sum(game_a_1_12)} games and Player B won {np.sum(game_b_1_12)} games')\n",
    "print(f'Player A won {np.sum(point_a_1_12)} points and Player B won {np.sum(point_b_1_12)} points')"
   ]
  },
  {
   "cell_type": "code",
   "execution_count": 192,
   "metadata": {},
   "outputs": [
    {
     "name": "stdout",
     "output_type": "stream",
     "text": [
      "n=12\n",
      "A's average: 3.0000\n",
      "A's standard deviation: 0.0000\n",
      "B's average: 0.0000\n",
      "B's standard deviation: 0.0000\n",
      "\n",
      "n=120\n",
      "A's average: 3.0000\n",
      "A's standard deviation: 0.0000\n",
      "B's average: 0.0000\n",
      "B's standard deviation: 0.0000\n"
     ]
    }
   ],
   "source": [
    "print(f'n=12\\nA\\'s average: {np.mean(won_a_1_12):.4f}\\nA\\'s standard deviation: {np.std(won_a_1_12):.4f}')\n",
    "print(f'B\\'s average: {np.mean(won_b_1_12):.4f}\\nB\\'s standard deviation: {np.std(won_b_1_12):.4f}')\n",
    "\n",
    "print(f'\\nn=120\\nA\\'s average: {np.mean(won_a_1_12):.4f}\\nA\\'s standard deviation: {np.std(won_a_1_12):.4f}')\n",
    "print(f'B\\'s average: {np.mean(won_b_1_12):.4f}\\nB\\'s standard deviation: {np.std(won_b_1_12):.4f}')"
   ]
  },
  {
   "cell_type": "code",
   "execution_count": 158,
   "metadata": {},
   "outputs": [
    {
     "data": {
      "image/png": "[encoded data removed]",
      "text/plain": [
       "<Figure size 432x288 with 1 Axes>"
      ]
     },
     "metadata": {
      "needs_background": "light"
     },
     "output_type": "display_data"
    }
   ],
   "source": [
    "fig, ax = plt.subplots()\n",
    "\n",
    "ax.boxplot([won_a_1_12, won_b_1_12], labels=['A', 'B']);\n",
    "ax.set_title('Match distribution');"
   ]
  },
  {
   "cell_type": "code",
   "execution_count": 191,
   "metadata": {},
   "outputs": [
    {
     "name": "stdout",
     "output_type": "stream",
     "text": [
      "n=12\n",
      "A's average: 2.00\n",
      "A's standard deviation: 0.00\n",
      "B's average: 0.00\n",
      "B's standard deviation: 0.00\n",
      "\n",
      "n=120\n",
      "A's average: 2.00\n",
      "A's standard deviation: 0.00\n",
      "B's average: 0.00\n",
      "B's standard deviation: 0.00\n"
     ]
    }
   ],
   "source": [
    "print(f'n=12\\nA\\'s average: {np.mean(set_a_1_12):.2f}\\nA\\'s standard deviation: {np.std(set_a_1_12):.2f}')\n",
    "print(f'B\\'s average: {np.mean(set_b_1_12):.2f}\\nB\\'s standard deviation: {np.std(set_b_1_12):.2f}')\n",
    "\n",
    "print(f'\\nn=120\\nA\\'s average: {np.mean(set_a_1_12):.2f}\\nA\\'s standard deviation: {np.std(set_a_1_12):.2f}')\n",
    "print(f'B\\'s average: {np.mean(set_b_1_12):.2f}\\nB\\'s standard deviation: {np.std(set_b_1_12):.2f}')"
   ]
  },
  {
   "cell_type": "code",
   "execution_count": 190,
   "metadata": {},
   "outputs": [
    {
     "name": "stdout",
     "output_type": "stream",
     "text": [
      "n=12\n",
      "A's average: 12.00\n",
      "A's standard deviation: 0.00\n",
      "B's average: 1.08\n",
      "B's standard deviation: 1.11\n",
      "\n",
      "n=120\n",
      "A's average: 12.00\n",
      "A's standard deviation: 0.00\n",
      "B's average: 0.58\n",
      "B's standard deviation: 0.85\n"
     ]
    }
   ],
   "source": [
    "print(f'n=12\\nA\\'s average: {np.mean(game_a_1_12):.2f}\\nA\\'s standard deviation: {np.std(game_a_1_12):.2f}')\n",
    "print(f'B\\'s average: {np.mean(game_b_1_12):.2f}\\nB\\'s standard deviation: {np.std(game_b_1_12):.2f}')\n",
    "\n",
    "print(f'\\nn=120\\nA\\'s average: {np.mean(game_a_1_120):.2f}\\nA\\'s standard deviation: {np.std(game_a_1_120):.2f}')\n",
    "print(f'B\\'s average: {np.mean(game_b_1_120):.2f}\\nB\\'s standard deviation: {np.std(game_b_1_120):.2f}')"
   ]
  },
  {
   "cell_type": "code",
   "execution_count": 188,
   "metadata": {},
   "outputs": [
    {
     "name": "stdout",
     "output_type": "stream",
     "text": [
      "n=12\n",
      "A's average: 52.33\n",
      "A's standard deviation: 2.75\n",
      "B's average: 18.75\n",
      "B's standard deviation: 5.66\n",
      "\n",
      "n=120\n",
      "A's average: 51.50\n",
      "A's standard deviation: 3.00\n",
      "B's average: 16.84\n",
      "B's standard deviation: 5.97\n"
     ]
    }
   ],
   "source": [
    "print(f'n=12\\nA\\'s average: {np.mean(point_a_1_12):.2f}\\nA\\'s standard deviation: {np.std(point_a_1_12):.2f}')\n",
    "print(f'B\\'s average: {np.mean(point_b_1_12):.2f}\\nB\\'s standard deviation: {np.std(point_b_1_12):.2f}')\n",
    "\n",
    "print(f'\\nn=120\\nA\\'s average: {np.mean(point_a_1_120):.2f}\\nA\\'s standard deviation: {np.std(point_a_1_120):.2f}')\n",
    "print(f'B\\'s average: {np.mean(point_b_1_120):.2f}\\nB\\'s standard deviation: {np.std(point_b_1_120):.2f}')"
   ]
  },
  {
   "cell_type": "code",
   "execution_count": 193,
   "metadata": {},
   "outputs": [
    {
     "data": {
      "image/png": "[encoded data removed]",
      "text/plain": [
       "<Figure size 576x288 with 3 Axes>"
      ]
     },
     "metadata": {
      "needs_background": "light"
     },
     "output_type": "display_data"
    },
    {
     "data": {
      "image/png": "[encoded data removed]",
      "text/plain": [
       "<Figure size 576x288 with 3 Axes>"
      ]
     },
     "metadata": {
      "needs_background": "light"
     },
     "output_type": "display_data"
    }
   ],
   "source": [
    "fig, ax = plt.subplots(ncols=3, figsize=(8, 4))\n",
    "\n",
    "ax[0].boxplot([set_a_1_12, set_b_1_12], labels=['A', 'B']);\n",
    "ax[0].set_title('Sets distribution n=12')\n",
    "\n",
    "ax[1].boxplot([game_a_1_12, game_b_1_12], labels=['A', 'B']);\n",
    "ax[1].set_title('Games distribution n=12')\n",
    "\n",
    "ax[2].boxplot([point_a_1_12, point_b_1_12], labels=['A', 'B']);\n",
    "ax[2].set_title('Points distribution n=12');\n",
    "\n",
    "\n",
    "fig, ax = plt.subplots(ncols=3, figsize=(8, 4))\n",
    "\n",
    "ax[0].boxplot([set_a_1_120, set_b_1_120], labels=['A', 'B']);\n",
    "ax[0].set_title('Sets distribution n=120')\n",
    "\n",
    "ax[1].boxplot([game_a_1_120, game_b_1_120], labels=['A', 'B']);\n",
    "ax[1].set_title('Games distribution n=120')\n",
    "\n",
    "ax[2].boxplot([point_a_1_120, point_b_1_120], labels=['A', 'B']);\n",
    "ax[2].set_title('Points distribution n=120');"
   ]
  },
  {
   "cell_type": "markdown",
   "metadata": {},
   "source": [
    "Percebemos principalmente nos pontos uma diferença considerável no desvio padrão dos resultados, sendo superiores principalmente na contagem de pontos."
   ]
  },
  {
   "cell_type": "markdown",
   "metadata": {},
   "source": [
    "### Partida 2"
   ]
  },
  {
   "cell_type": "code",
   "execution_count": 165,
   "metadata": {},
   "outputs": [
    {
     "name": "stdout",
     "output_type": "stream",
     "text": [
      "Player A won 9 matches and Player B won 3 matches\n",
      "Player A won 19 sets and Player B won 9 sets\n",
      "Player A won 156 games and Player B won 125 games\n",
      "Player A won 1032 points and Player B won 951 points\n"
     ]
    }
   ],
   "source": [
    "won_a_2_12 = np.ndarray(4, dtype=int)\n",
    "won_b_2_12 = np.ndarray(4, dtype=int)\n",
    "\n",
    "set_a_2_12 = np.ndarray(12, dtype=int)\n",
    "set_b_2_12 = np.ndarray(12, dtype=int)\n",
    "\n",
    "game_a_2_12 = np.ndarray(12, dtype=int)\n",
    "game_b_2_12 = np.ndarray(12, dtype=int)\n",
    "\n",
    "point_a_2_12 = np.ndarray(12, dtype=int)\n",
    "point_b_2_12 = np.ndarray(12, dtype=int)\n",
    "\n",
    "random.seed(42)\n",
    "samples = random.sample(range(0, 120), 12)\n",
    "\n",
    "for i in range(4):\n",
    "  matches = df_2[df_2['match'].isin([samples[i*3], samples[i*3+1], samples[i*3+2]])]\n",
    "  (won_a_2_12[i], won_b_2_12[i]) = matches_won(matches)\n",
    "\n",
    "for i in range(12):\n",
    "  matches = df_2[df_2['match'] == samples[i]]\n",
    "  (set_a_2_12[i], set_b_2_12[i]) = sets_won(matches)\n",
    "  (game_a_2_12[i],game_b_2_12[i]) = games_won(matches)\n",
    "  (point_a_2_12[i],point_b_2_12[i]) = points_scored(matches)\n",
    "\n",
    "print(f'Player A won {np.sum(won_a_2_12)} matches and Player B won {np.sum(won_b_2_12)} matches')\n",
    "print(f'Player A won {np.sum(set_a_2_12)} sets and Player B won {np.sum(set_b_2_12)} sets')\n",
    "print(f'Player A won {np.sum(game_a_2_12)} games and Player B won {np.sum(game_b_2_12)} games')\n",
    "print(f'Player A won {np.sum(point_a_2_12)} points and Player B won {np.sum(point_b_2_12)} points')"
   ]
  },
  {
   "cell_type": "code",
   "execution_count": 194,
   "metadata": {},
   "outputs": [
    {
     "name": "stdout",
     "output_type": "stream",
     "text": [
      "n=12\n",
      "A's average: 2.2500\n",
      "A's standard deviation: 0.4330\n",
      "B's average: 0.7500\n",
      "B's standard deviation: 0.4330\n",
      "\n",
      "n=120\n",
      "A's average: 2.1000\n",
      "A's standard deviation: 0.8307\n",
      "B's average: 0.9000\n",
      "B's standard deviation: 0.8307\n"
     ]
    }
   ],
   "source": [
    "print(f'n=12\\nA\\'s average: {np.mean(won_a_2_12):.4f}\\nA\\'s standard deviation: {np.std(won_a_2_12):.4f}')\n",
    "print(f'B\\'s average: {np.mean(won_b_2_12):.4f}\\nB\\'s standard deviation: {np.std(won_b_2_12):.4f}')\n",
    "\n",
    "print(f'\\nn=120\\nA\\'s average: {np.mean(won_a_2_120):.4f}\\nA\\'s standard deviation: {np.std(won_a_2_120):.4f}')\n",
    "print(f'B\\'s average: {np.mean(won_b_2_120):.4f}\\nB\\'s standard deviation: {np.std(won_b_2_120):.4f}')"
   ]
  },
  {
   "cell_type": "code",
   "execution_count": 195,
   "metadata": {},
   "outputs": [
    {
     "data": {
      "image/png": "[encoded data removed]",
      "text/plain": [
       "<Figure size 432x288 with 1 Axes>"
      ]
     },
     "metadata": {
      "needs_background": "light"
     },
     "output_type": "display_data"
    },
    {
     "data": {
      "image/png": "[encoded data removed]",
      "text/plain": [
       "<Figure size 432x288 with 1 Axes>"
      ]
     },
     "metadata": {
      "needs_background": "light"
     },
     "output_type": "display_data"
    }
   ],
   "source": [
    "fig, ax = plt.subplots()\n",
    "\n",
    "ax.boxplot([won_a_2_12, won_b_2_12], labels=['A', 'B']);\n",
    "ax.set_title('Match distribution n=12');\n",
    "\n",
    "fig, ax = plt.subplots()\n",
    "\n",
    "ax.boxplot([won_a_2_120, won_b_2_120], labels=['A', 'B']);\n",
    "ax.set_title('Match distribution n=120');"
   ]
  },
  {
   "cell_type": "code",
   "execution_count": 196,
   "metadata": {},
   "outputs": [
    {
     "name": "stdout",
     "output_type": "stream",
     "text": [
      "n=12\n",
      "A's average: 1.58\n",
      "A's standard deviation: 0.76\n",
      "B's average: 0.75\n",
      "B's standard deviation: 0.83\n",
      "\n",
      "n=120\n",
      "A's average: 1.60\n",
      "A's standard deviation: 0.66\n",
      "B's average: 0.90\n",
      "B's standard deviation: 0.83\n"
     ]
    }
   ],
   "source": [
    "print(f'n=12\\nA\\'s average: {np.mean(set_a_2_12):.2f}\\nA\\'s standard deviation: {np.std(set_a_2_12):.2f}')\n",
    "print(f'B\\'s average: {np.mean(set_b_2_12):.2f}\\nB\\'s standard deviation: {np.std(set_b_2_12):.2f}')\n",
    "\n",
    "print(f'\\nn=120\\nA\\'s average: {np.mean(set_a_2_120):.2f}\\nA\\'s standard deviation: {np.std(set_a_2_120):.2f}')\n",
    "print(f'B\\'s average: {np.mean(set_b_2_120):.2f}\\nB\\'s standard deviation: {np.std(set_b_2_120):.2f}')"
   ]
  },
  {
   "cell_type": "code",
   "execution_count": 184,
   "metadata": {},
   "outputs": [
    {
     "name": "stdout",
     "output_type": "stream",
     "text": [
      "n=12\n",
      "A's average: 13.00\n",
      "A's standard deviation: 3.81\n",
      "B's average: 10.42\n",
      "B's standard deviation: 4.80\n",
      "\n",
      "n=120\n",
      "A's average: 13.14\n",
      "A's standard deviation: 3.01\n",
      "B's average: 10.75\n",
      "B's standard deviation: 4.41\n"
     ]
    }
   ],
   "source": [
    "print(f'n=12\\nA\\'s average: {np.mean(game_a_2_12):.2f}\\nA\\'s standard deviation: {np.std(game_a_2_12):.2f}')\n",
    "print(f'B\\'s average: {np.mean(game_b_2_12):.2f}\\nB\\'s standard deviation: {np.std(game_b_2_12):.2f}')\n",
    "\n",
    "print(f'\\nn=120\\nA\\'s average: {np.mean(game_a_2_120):.2f}\\nA\\'s standard deviation: {np.std(game_a_2_120):.2f}')\n",
    "print(f'B\\'s average: {np.mean(game_b_2_120):.2f}\\nB\\'s standard deviation: {np.std(game_b_2_120):.2f}')"
   ]
  },
  {
   "cell_type": "code",
   "execution_count": 186,
   "metadata": {},
   "outputs": [
    {
     "name": "stdout",
     "output_type": "stream",
     "text": [
      "n=12\n",
      "A's average: 86.00\n",
      "A's standard deviation: 26.14\n",
      "B's average: 79.25\n",
      "B's standard deviation: 27.83\n",
      "\n",
      "n=120\n",
      "A's average: 83.38\n",
      "A's standard deviation: 20.47\n",
      "B's average: 76.90\n",
      "B's standard deviation: 24.36\n"
     ]
    }
   ],
   "source": [
    "print(f'n=12\\nA\\'s average: {np.mean(point_a_2_12):.2f}\\nA\\'s standard deviation: {np.std(point_a_2_12):.2f}')\n",
    "print(f'B\\'s average: {np.mean(point_b_2_12):.2f}\\nB\\'s standard deviation: {np.std(point_b_2_12):.2f}')\n",
    "\n",
    "print(f'\\nn=120\\nA\\'s average: {np.mean(point_a_2_120):.2f}\\nA\\'s standard deviation: {np.std(point_a_2_120):.2f}')\n",
    "print(f'B\\'s average: {np.mean(point_b_2_120):.2f}\\nB\\'s standard deviation: {np.std(point_b_2_120):.2f}')"
   ]
  },
  {
   "cell_type": "code",
   "execution_count": 176,
   "metadata": {},
   "outputs": [
    {
     "data": {
      "image/png": "[encoded data removed]",
      "text/plain": [
       "<Figure size 576x288 with 3 Axes>"
      ]
     },
     "metadata": {
      "needs_background": "light"
     },
     "output_type": "display_data"
    },
    {
     "data": {
      "image/png": "[encoded data removed]",
      "text/plain": [
       "<Figure size 576x288 with 3 Axes>"
      ]
     },
     "metadata": {
      "needs_background": "light"
     },
     "output_type": "display_data"
    }
   ],
   "source": [
    "fig, ax = plt.subplots(ncols=3, figsize=(8, 4))\n",
    "\n",
    "ax[0].boxplot([set_a_2_12, set_b_2_12], labels=['A', 'B']);\n",
    "ax[0].set_title('Sets distribution')\n",
    "\n",
    "ax[1].boxplot([game_a_2_12, game_b_2_12], labels=['A', 'B']);\n",
    "ax[1].set_title('Games distribution')\n",
    "\n",
    "ax[2].boxplot([point_a_2_12, point_b_2_12], labels=['A', 'B']);\n",
    "ax[2].set_title('Points distribution');\n",
    "\n",
    "fig, ax = plt.subplots(ncols=3, figsize=(8, 4))\n",
    "\n",
    "ax[0].boxplot([set_a_2_120, set_b_2_120], labels=['A', 'B']);\n",
    "ax[0].set_title('Sets distribution')\n",
    "\n",
    "ax[1].boxplot([game_a_2_120, game_b_2_120], labels=['A', 'B']);\n",
    "ax[1].set_title('Games distribution')\n",
    "\n",
    "ax[2].boxplot([point_a_2_120, point_b_2_120], labels=['A', 'B']);\n",
    "ax[2].set_title('Points distribution');"
   ]
  },
  {
   "cell_type": "markdown",
   "metadata": {},
   "source": [
    "Já na segunda partida, vemos que os resultados não apresentam alteração significativa. Isso pode ser percebido principalmente pelo fato da probabilidade igual de cada jogador ganhar um ponto."
   ]
  }
 ],
 "metadata": {
  "interpreter": {
   "hash": "e7370f93d1d0cde622a1f8e1c04877d8463912d04d973331ad4851f04de6915a"
  },
  "kernelspec": {
   "display_name": "Python 3.10.2 64-bit",
   "language": "python",
   "name": "python3"
  },
  "language_info": {
   "codemirror_mode": {
    "name": "ipython",
    "version": 3
   },
   "file_extension": ".py",
   "mimetype": "text/x-python",
   "name": "python",
   "nbconvert_exporter": "python",
   "pygments_lexer": "ipython3",
   "version": "3.10.2"
  },
  "orig_nbformat": 4
 },
 "nbformat": 4,
 "nbformat_minor": 2
}
