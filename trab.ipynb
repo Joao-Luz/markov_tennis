{
 "cells": [
  {
   "cell_type": "code",
   "execution_count": 318,
   "metadata": {},
   "outputs": [],
   "source": [
    "import numpy as np\n",
    "import pandas as pd\n",
    "from simulate_matches import simulate_matches\n",
    "from utils import *\n",
    "from probabilities import *\n",
    "import matplotlib.pyplot as plt\n",
    "from scipy.special import comb"
   ]
  },
  {
   "cell_type": "markdown",
   "metadata": {},
   "source": [
    "## Partida 1\n",
    "Nessa partida, $p=0.75$ e, consequentemente, $q=0.25$"
   ]
  },
  {
   "cell_type": "code",
   "execution_count": 356,
   "metadata": {},
   "outputs": [
    {
     "name": "stdout",
     "output_type": "stream",
     "text": [
      "120 0\n"
     ]
    }
   ],
   "source": [
    "p1 = 0.75\n",
    "simulate_matches('matches_1.csv', p1, 120)\n",
    "df_1 = pd.read_csv('matches_1.csv')"
   ]
  },
  {
   "cell_type": "markdown",
   "metadata": {},
   "source": [
    "### Caracterização inicial"
   ]
  },
  {
   "cell_type": "code",
   "execution_count": 195,
   "metadata": {},
   "outputs": [
    {
     "name": "stdout",
     "output_type": "stream",
     "text": [
      "A won 100.00% matches\n",
      "B won 0.00% matches\n"
     ]
    }
   ],
   "source": [
    "a, b = matches_won(df_1)\n",
    "\n",
    "print(f'A won {100*a/(a+b):.2f}% matches')\n",
    "print(f'B won {100*b/(a+b):.2f}% matches')"
   ]
  },
  {
   "cell_type": "code",
   "execution_count": 196,
   "metadata": {},
   "outputs": [
    {
     "name": "stdout",
     "output_type": "stream",
     "text": [
      "A won 100.00% of the sets\n",
      "B won 0.00% of the sets\n"
     ]
    }
   ],
   "source": [
    "a, b = sets_won(df_1)\n",
    "\n",
    "print(f'A won {100*a/(a+b):.2f}% of the sets')\n",
    "print(f'B won {100*b/(a+b):.2f}% of the sets')"
   ]
  },
  {
   "cell_type": "code",
   "execution_count": 197,
   "metadata": {},
   "outputs": [
    {
     "name": "stdout",
     "output_type": "stream",
     "text": [
      "A won 94.80% of the games\n",
      "B won 5.20% of the games\n"
     ]
    }
   ],
   "source": [
    "a, b = games_won(df_1)\n",
    "\n",
    "print(f'A won {100*a/(a+b):.2f}% of the games')\n",
    "print(f'B won {100*b/(a+b):.2f}% of the games')"
   ]
  },
  {
   "cell_type": "code",
   "execution_count": 198,
   "metadata": {},
   "outputs": [
    {
     "name": "stdout",
     "output_type": "stream",
     "text": [
      "A scored 75.10% of the points\n",
      "B scored 24.90% of the points\n"
     ]
    }
   ],
   "source": [
    "a, b = points_scored(df_1)\n",
    "\n",
    "print(f'A scored {100*a/(a+b):.2f}% of the points')\n",
    "print(f'B scored {100*b/(a+b):.2f}% of the points')"
   ]
  },
  {
   "cell_type": "markdown",
   "metadata": {},
   "source": [
    "### Análise das vitórias dos jogadores"
   ]
  },
  {
   "cell_type": "markdown",
   "metadata": {},
   "source": [
    "Vamos fazer uma análise da probabilidade de cada jogador ganhar na partida 1. Para isso, vamos dividir o nosso dataset em 3 e verificar, de 3 em 3 partidas, quantas o jogador A e o jogador B ganham:"
   ]
  },
  {
   "cell_type": "code",
   "execution_count": 199,
   "metadata": {},
   "outputs": [
    {
     "name": "stdout",
     "output_type": "stream",
     "text": [
      "Player A won 120 and Player B won 0\n"
     ]
    }
   ],
   "source": [
    "n = len(df_1['match'].unique())//3\n",
    "\n",
    "won_a = np.ndarray(n, dtype=int)\n",
    "won_b = np.ndarray(n, dtype=int)\n",
    "\n",
    "for i in range(n):\n",
    "    matches = df_1[df_1['match'].isin([3*i, 3*i+1, 3*i+2])]\n",
    "    (won_a[i], won_b[i]) = matches_won(matches)\n",
    "\n",
    "print(f'Player A won {np.sum(won_a)} and Player B won {np.sum(won_b)}')"
   ]
  },
  {
   "cell_type": "markdown",
   "metadata": {},
   "source": [
    "Vamos calcular o valor médio de vitórias a cada 3 partidas, assim como o desvio padrão para a nossa amostra"
   ]
  },
  {
   "cell_type": "code",
   "execution_count": 200,
   "metadata": {},
   "outputs": [
    {
     "name": "stdout",
     "output_type": "stream",
     "text": [
      "A's average: 3.0\n",
      "A's standard deviation: 0.0\n",
      "B's average: 0.0\n",
      "B's standard deviation: 0.0\n"
     ]
    }
   ],
   "source": [
    "print(f'A\\'s average: {np.mean(won_a)}\\nA\\'s standard deviation: {np.std(won_a)}')\n",
    "print(f'B\\'s average: {np.mean(won_b)}\\nB\\'s standard deviation: {np.std(won_b)}')"
   ]
  },
  {
   "cell_type": "markdown",
   "metadata": {},
   "source": [
    "Como podemos ver, em 3 partidas, é esperado que o jogador A ganhe as 3, enquanto o jogador B não ganha nenhuma. Em ambos os casos, o desvio padrão é 0, o que significa que A ou ganha as 3 partidas sempre ou que ele ganha com tanta frequência que a nossa amostra não foi capaz de capturar um caso em que ele perde. O mesmo vale para B."
   ]
  },
  {
   "cell_type": "markdown",
   "metadata": {},
   "source": [
    "### Probabilidades analíticas"
   ]
  },
  {
   "cell_type": "markdown",
   "metadata": {},
   "source": [
    "Vamos analisar o jogo como uma Cadeia de Markov e calcular a probabilidade real dos jogadores ganharem as partidas:"
   ]
  },
  {
   "cell_type": "code",
   "execution_count": 358,
   "metadata": {},
   "outputs": [
    {
     "name": "stdout",
     "output_type": "stream",
     "text": [
      "Probability of A to win a match: 0.9999999999999997\n",
      "Probability of B to win a match: 3.3306690738754696e-16\n"
     ]
    }
   ],
   "source": [
    "pa1 = match_probability(p=p1)\n",
    "pb1 = 1-pa1\n",
    "print(f'Probability of A to win a match: {pa1}')\n",
    "print(f'Probability of B to win a match: {pb1}')"
   ]
  },
  {
   "cell_type": "markdown",
   "metadata": {},
   "source": [
    "A probabilidade de um jogador ganhar a partida é dada por $ \\mu = \\sum {x_i*P(x_i)} $, sendo que $P(x_i)$ é a probabilidade do jogador ganhar um número $x_i$ de partidas (nesse caso, $x_i = i$). Essas probabilidade são, para o jogador A e B respectivamente, dadas pelas seguintes expressões:\n",
    "\n",
    "$$ P_A(x_i) = \\binom{3}{i}(1-p_a)^{3-i}*p_a^i,\\space i=0,1,2,3 $$\n",
    "$$ P_B(x_i) = \\binom{3}{i}(1-p_a)^i*p_a^{3-i},\\space i=0,1,2,3 $$\n",
    "\n",
    "Onde $p_a$ é a probabilidade do jogador A ganhar uma partida. O desvio padrão é dado por $ \\sigma = \\sqrt { \\sum {(x_i - \\mu)^2*P(x_i)} } $, onde $\\mu$ é o valor médio do número de partidas ganhas.\n",
    "\n",
    "Vamos, então, computar os valores médios e desvios padrões reais para A e B:"
   ]
  },
  {
   "cell_type": "code",
   "execution_count": 359,
   "metadata": {},
   "outputs": [
    {
     "name": "stdout",
     "output_type": "stream",
     "text": [
      "A's real average: 3.0000e+00\n",
      "A's real standard deviation: 3.1610e-08\n",
      "B's real average: 9.9920e-16\n",
      "B's real standard deviation: 3.1610e-08\n"
     ]
    }
   ],
   "source": [
    "x = [0, 1, 2, 3]\n",
    "pa = [prob_n_outof(xi, 3, pa1) for xi in x]\n",
    "pb = list(reversed(pa))\n",
    "\n",
    "mean_a = np.sum([xi*pi for pi,xi in zip(pa,x)])\n",
    "mean_b = np.sum([xi*pi for pi,xi in zip(pb,x)])\n",
    "\n",
    "\n",
    "std_a = (np.sum([ (xi - mean_a)**2*pi for pi,xi in zip(pa,x) ]))**0.5\n",
    "std_b = (np.sum([ (xi - mean_b)**2*pi for pi,xi in zip(pb,x) ]))**0.5\n",
    "\n",
    "print(f'A\\'s real average: {mean_a:.4e}\\nA\\'s real standard deviation: {std_a:.4e}')\n",
    "print(f'B\\'s real average: {mean_b:.4e}\\nB\\'s real standard deviation: {std_b:.4e}')"
   ]
  },
  {
   "cell_type": "markdown",
   "metadata": {},
   "source": [
    "Percebemos que, realmente, o valor médio de partidas ganhas é muito próximo de 3 para A e muito próximo de 0 para B. O desvio padrão para ambos é, também, muito próximo de 0.\n",
    "\n",
    "Vamos observar a relação entre $p$ e $p_a$ (além da probabilidade de se ganhar um game e um set):"
   ]
  },
  {
   "cell_type": "code",
   "execution_count": 251,
   "metadata": {},
   "outputs": [
    {
     "data": {
      "image/png": "[encoded data removed]",
      "text/plain": [
       "<Figure size 432x288 with 1 Axes>"
      ]
     },
     "metadata": {
      "needs_background": "light"
     },
     "output_type": "display_data"
    }
   ],
   "source": [
    "ps = np.arange(0, 1, 0.001)\n",
    "pas = np.array([match_probability(p) for p in ps])\n",
    "pss = np.array([set_probability(p) for p in ps])\n",
    "pgs = np.array([game_probability(p) for p in ps])\n",
    "\n",
    "fig, ax = plt.subplots()\n",
    "ax.plot(ps, ps, label='Scores');\n",
    "ax.plot(ps, pgs, label='Game');\n",
    "ax.plot(ps, pss, label='Set');\n",
    "ax.plot(ps, pas, label='Match');\n",
    "\n",
    "ax.legend();\n",
    "ax.set_title('Probabilities for given $p$');\n",
    "ax.set_xlabel('$p$');\n",
    "ax.set_ylabel('Probability');\n",
    "ax.grid()"
   ]
  },
  {
   "cell_type": "markdown",
   "metadata": {},
   "source": [
    "Como podemos ver, a probabilidade do jogador ganhar a partida é extremamente sensível à diferença de habilidade dos jogadores $p$. Além disso, percebemos que a sensibilidade à $p$ aumenta quando observamos a probabilidade de se ganhar um ponto, um jogo e um set."
   ]
  },
  {
   "cell_type": "markdown",
   "metadata": {},
   "source": [
    "## Partida 2\n",
    "Agora, $p=0.5$ e $q=0.5$"
   ]
  },
  {
   "cell_type": "code",
   "execution_count": 360,
   "metadata": {},
   "outputs": [
    {
     "name": "stdout",
     "output_type": "stream",
     "text": [
      "83 37\n"
     ]
    }
   ],
   "source": [
    "p2 = 0.52\n",
    "simulate_matches('matches_2.csv', p2, 120)\n",
    "df_2 = pd.read_csv('matches_2.csv')"
   ]
  },
  {
   "cell_type": "markdown",
   "metadata": {},
   "source": [
    "### Caracterização inicial"
   ]
  },
  {
   "cell_type": "code",
   "execution_count": 361,
   "metadata": {},
   "outputs": [
    {
     "name": "stdout",
     "output_type": "stream",
     "text": [
      "A won 69.17% of the matches\n",
      "B won 30.83% of the matches\n"
     ]
    }
   ],
   "source": [
    "a, b = matches_won(df_2)\n",
    "\n",
    "print(f'A won {100*a/(a+b):.2f}% of the matches')\n",
    "print(f'B won {100*b/(a+b):.2f}% of the matches')"
   ]
  },
  {
   "cell_type": "code",
   "execution_count": 362,
   "metadata": {},
   "outputs": [
    {
     "name": "stdout",
     "output_type": "stream",
     "text": [
      "A won 62.13% of the sets\n",
      "B won 37.87% of the sets\n"
     ]
    }
   ],
   "source": [
    "a, b = sets_won(df_2)\n",
    "\n",
    "print(f'A won {100*a/(a+b):.2f}% of the sets')\n",
    "print(f'B won {100*b/(a+b):.2f}% of the sets')"
   ]
  },
  {
   "cell_type": "code",
   "execution_count": 363,
   "metadata": {},
   "outputs": [
    {
     "name": "stdout",
     "output_type": "stream",
     "text": [
      "A won 55.24% of the games\n",
      "B won 44.76% of the games\n"
     ]
    }
   ],
   "source": [
    "a, b = games_won(df_2)\n",
    "\n",
    "print(f'A won {100*a/(a+b):.2f}% of the games')\n",
    "print(f'B won {100*b/(a+b):.2f}% of the games')"
   ]
  },
  {
   "cell_type": "code",
   "execution_count": 364,
   "metadata": {},
   "outputs": [
    {
     "name": "stdout",
     "output_type": "stream",
     "text": [
      "A scored 52.10% of the points\n",
      "B scored 47.90% of the points\n"
     ]
    }
   ],
   "source": [
    "a, b = points_scored(df_2)\n",
    "\n",
    "print(f'A scored {100*a/(a+b):.2f}% of the points')\n",
    "print(f'B scored {100*b/(a+b):.2f}% of the points')"
   ]
  },
  {
   "cell_type": "markdown",
   "metadata": {},
   "source": [
    "### Análise do número de vitórias para a partida 2"
   ]
  },
  {
   "cell_type": "code",
   "execution_count": 365,
   "metadata": {},
   "outputs": [
    {
     "name": "stdout",
     "output_type": "stream",
     "text": [
      "Player A won 83 and Player B won 37\n"
     ]
    }
   ],
   "source": [
    "n = len(df_2['match'].unique())//3\n",
    "\n",
    "won_a = np.ndarray(n, dtype=int)\n",
    "won_b = np.ndarray(n, dtype=int)\n",
    "\n",
    "for i in range(n):\n",
    "    matches = df_2[df_2['match'].isin([3*i, 3*i+1, 3*i+2])]\n",
    "    (won_a[i], won_b[i]) = matches_won(matches)\n",
    "\n",
    "print(f'Player A won {np.sum(won_a)} and Player B won {np.sum(won_b)}')"
   ]
  },
  {
   "cell_type": "markdown",
   "metadata": {},
   "source": [
    "Vamos verificar a média de vitórias em cada 3 partidas para $p=0.52$"
   ]
  },
  {
   "cell_type": "code",
   "execution_count": 366,
   "metadata": {},
   "outputs": [
    {
     "name": "stdout",
     "output_type": "stream",
     "text": [
      "A's average: 2.0750\n",
      "A's standard deviation: 0.7546\n",
      "B's average: 0.9250\n",
      "B's standard deviation: 0.7546\n"
     ]
    }
   ],
   "source": [
    "print(f'A\\'s average: {np.mean(won_a):.4f}\\nA\\'s standard deviation: {np.std(won_a):.4f}')\n",
    "print(f'B\\'s average: {np.mean(won_b):.4f}\\nB\\'s standard deviation: {np.std(won_b):.4f}')"
   ]
  },
  {
   "cell_type": "markdown",
   "metadata": {},
   "source": [
    "Percebemos que, agora, os dois jogadores possuem habilidades bem similares, o que significa que o jogador B possui muito mais chances de vencer. Ainda assim, o jogador A possui muita vantagem em cima do jogador B, ganhando 2 em 3 partidas."
   ]
  },
  {
   "cell_type": "markdown",
   "metadata": {},
   "source": [
    "### Valores reais de probabilidade"
   ]
  },
  {
   "cell_type": "markdown",
   "metadata": {},
   "source": [
    "Novamente, vamos calcular analiticamente a média de jogos ganhos dentre os 3:"
   ]
  },
  {
   "cell_type": "code",
   "execution_count": 368,
   "metadata": {},
   "outputs": [
    {
     "name": "stdout",
     "output_type": "stream",
     "text": [
      "Probability of A to win a match: 0.7493\n",
      "Probability of B to win a match: 0.2507\n"
     ]
    }
   ],
   "source": [
    "p2a = match_probability(p=0.52)\n",
    "p2b = 1-p2a\n",
    "print(f'Probability of A to win a match: {p2a:.4f}')\n",
    "print(f'Probability of B to win a match: {p2b:.4f}')"
   ]
  },
  {
   "cell_type": "code",
   "execution_count": 369,
   "metadata": {},
   "outputs": [
    {
     "name": "stdout",
     "output_type": "stream",
     "text": [
      "A's real average: 2.2478\n",
      "A's real standard deviation: 0.7507\n",
      "B's real average: 0.7522\n",
      "B's real standard deviation: 0.7507\n"
     ]
    }
   ],
   "source": [
    "x = [0, 1, 2, 3]\n",
    "pa = [prob_n_outof(xi, 3, p2a) for xi in x]\n",
    "pb = list(reversed(pa))\n",
    "\n",
    "mean_a = np.sum([xi*pi for pi,xi in zip(pa,x)])\n",
    "mean_b = np.sum([xi*pi for pi,xi in zip(pb,x)])\n",
    "\n",
    "\n",
    "std_a = (np.sum([ (xi - mean_a)**2*pi for pi,xi in zip(pa,x) ]))**0.5\n",
    "std_b = (np.sum([ (xi - mean_b)**2*pi for pi,xi in zip(pb,x) ]))**0.5\n",
    "\n",
    "print(f'A\\'s real average: {mean_a:.4f}\\nA\\'s real standard deviation: {std_a:.4f}')\n",
    "print(f'B\\'s real average: {mean_b:.4f}\\nB\\'s real standard deviation: {std_b:.4f}')"
   ]
  },
  {
   "cell_type": "markdown",
   "metadata": {},
   "source": [
    "Percebemos que os valores obtidos da análise da simulação é bem próximo do que foi obtido analiticamente.\n",
    "\n",
    "Novamente, observamos a sensibilidade da vitória à probabilidade $p$. Com uma diferença de apenas $0.04$ de habilidade, o jogador A consegue vencer pelo menos duas partidas em cada 3."
   ]
  }
 ],
 "metadata": {
  "interpreter": {
   "hash": "e7370f93d1d0cde622a1f8e1c04877d8463912d04d973331ad4851f04de6915a"
  },
  "kernelspec": {
   "display_name": "Python 3.10.2 64-bit",
   "language": "python",
   "name": "python3"
  },
  "language_info": {
   "codemirror_mode": {
    "name": "ipython",
    "version": 3
   },
   "file_extension": ".py",
   "mimetype": "text/x-python",
   "name": "python",
   "nbconvert_exporter": "python",
   "pygments_lexer": "ipython3",
   "version": "3.10.2"
  },
  "orig_nbformat": 4
 },
 "nbformat": 4,
 "nbformat_minor": 2
}
