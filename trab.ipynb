{
 "cells": [
  {
   "cell_type": "code",
   "execution_count": 1,
   "metadata": {},
   "outputs": [],
   "source": [
    "import numpy as np\n",
    "import pandas as pd\n",
    "from simulate_matches import simulate_matches\n",
    "from utils import *\n",
    "from probabilities import *"
   ]
  },
  {
   "cell_type": "markdown",
   "metadata": {},
   "source": [
    "## Partida 1\n",
    "Nessa partida, $p=0.75$ e, consequentemente, $q=0.25$"
   ]
  },
  {
   "cell_type": "code",
   "execution_count": 56,
   "metadata": {},
   "outputs": [
    {
     "name": "stdout",
     "output_type": "stream",
     "text": [
      "120 0\n"
     ]
    }
   ],
   "source": [
    "simulate_matches('matches_1.csv', 0.75, 120)\n",
    "df_1 = pd.read_csv('matches_1.csv')"
   ]
  },
  {
   "cell_type": "code",
   "execution_count": 57,
   "metadata": {},
   "outputs": [
    {
     "name": "stdout",
     "output_type": "stream",
     "text": [
      "A won 100.00% matches\n",
      "B won 0.00% matches\n"
     ]
    }
   ],
   "source": [
    "a, b = matches_won(df_1)\n",
    "\n",
    "print(f'A won {100*a/(a+b):.2f}% matches')\n",
    "print(f'B won {100*b/(a+b):.2f}% matches')"
   ]
  },
  {
   "cell_type": "code",
   "execution_count": 58,
   "metadata": {},
   "outputs": [
    {
     "name": "stdout",
     "output_type": "stream",
     "text": [
      "A won 100.00% of the sets\n",
      "B won 0.00% of the sets\n"
     ]
    }
   ],
   "source": [
    "a, b = sets_won(df_1)\n",
    "\n",
    "print(f'A won {100*a/(a+b):.2f}% of the sets')\n",
    "print(f'B won {100*b/(a+b):.2f}% of the sets')"
   ]
  },
  {
   "cell_type": "code",
   "execution_count": 59,
   "metadata": {},
   "outputs": [
    {
     "name": "stdout",
     "output_type": "stream",
     "text": [
      "A won 90.62% of the games\n",
      "B won 9.38% of the games\n"
     ]
    }
   ],
   "source": [
    "a, b = games_won(df_1)\n",
    "\n",
    "print(f'A won {100*a/(a+b):.2f}% of the games')\n",
    "print(f'B won {100*b/(a+b):.2f}% of the games')"
   ]
  },
  {
   "cell_type": "code",
   "execution_count": 60,
   "metadata": {},
   "outputs": [
    {
     "name": "stdout",
     "output_type": "stream",
     "text": [
      "A scored 70.61% of the points\n",
      "B scored 29.39% of the points\n"
     ]
    }
   ],
   "source": [
    "a, b = points_scored(df_1)\n",
    "\n",
    "print(f'A scored {100*a/(a+b):.2f}% of the points')\n",
    "print(f'B scored {100*b/(a+b):.2f}% of the points')"
   ]
  },
  {
   "cell_type": "markdown",
   "metadata": {},
   "source": [
    "## Partida 2\n",
    "Agora, $p=0.5$ e $q=0.5$"
   ]
  },
  {
   "cell_type": "code",
   "execution_count": 116,
   "metadata": {},
   "outputs": [
    {
     "name": "stdout",
     "output_type": "stream",
     "text": [
      "1048 952\n"
     ]
    }
   ],
   "source": [
    "simulate_matches('matches_2.csv', 0.5, 2000)\n",
    "df_2 = pd.read_csv('matches_2.csv')"
   ]
  },
  {
   "cell_type": "code",
   "execution_count": 120,
   "metadata": {},
   "outputs": [
    {
     "name": "stdout",
     "output_type": "stream",
     "text": [
      "A won 52.40% of the matches\n",
      "B won 47.60% of the matches\n"
     ]
    }
   ],
   "source": [
    "a, b = matches_won(df_2)\n",
    "\n",
    "print(f'A won {100*a/(a+b):.2f}% of the matches')\n",
    "print(f'B won {100*b/(a+b):.2f}% of the matches')"
   ]
  },
  {
   "cell_type": "code",
   "execution_count": 118,
   "metadata": {},
   "outputs": [
    {
     "name": "stdout",
     "output_type": "stream",
     "text": [
      "A won 51.20% of the sets\n",
      "B won 48.80% of the sets\n"
     ]
    }
   ],
   "source": [
    "a, b = sets_won(df_2)\n",
    "\n",
    "print(f'A won {100*a/(a+b):.2f}% of the sets')\n",
    "print(f'B won {100*b/(a+b):.2f}% of the sets')"
   ]
  },
  {
   "cell_type": "code",
   "execution_count": 117,
   "metadata": {},
   "outputs": [
    {
     "name": "stdout",
     "output_type": "stream",
     "text": [
      "A won 50.41% of the games\n",
      "B won 49.59% of the games\n"
     ]
    }
   ],
   "source": [
    "a, b = games_won(df_2)\n",
    "\n",
    "print(f'A won {100*a/(a+b):.2f}% of the games')\n",
    "print(f'B won {100*b/(a+b):.2f}% of the games')"
   ]
  },
  {
   "cell_type": "code",
   "execution_count": 119,
   "metadata": {},
   "outputs": [
    {
     "name": "stdout",
     "output_type": "stream",
     "text": [
      "A scored 50.15% of the points\n",
      "B scored 49.85% of the points\n"
     ]
    }
   ],
   "source": [
    "a, b = points_scored(df_2)\n",
    "\n",
    "print(f'A scored {100*a/(a+b):.2f}% of the points')\n",
    "print(f'B scored {100*b/(a+b):.2f}% of the points')"
   ]
  }
 ],
 "metadata": {
  "interpreter": {
   "hash": "e7370f93d1d0cde622a1f8e1c04877d8463912d04d973331ad4851f04de6915a"
  },
  "kernelspec": {
   "display_name": "Python 3.10.2 64-bit",
   "language": "python",
   "name": "python3"
  },
  "language_info": {
   "codemirror_mode": {
    "name": "ipython",
    "version": 3
   },
   "file_extension": ".py",
   "mimetype": "text/x-python",
   "name": "python",
   "nbconvert_exporter": "python",
   "pygments_lexer": "ipython3",
   "version": "3.10.2"
  },
  "orig_nbformat": 4
 },
 "nbformat": 4,
 "nbformat_minor": 2
}
