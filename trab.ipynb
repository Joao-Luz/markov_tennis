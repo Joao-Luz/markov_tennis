{
 "cells": [
  {
   "cell_type": "code",
   "execution_count": 1,
   "metadata": {},
   "outputs": [],
   "source": [
    "import numpy as np\n",
    "import pandas as pd\n",
    "from simulate_matches import simulate_matches"
   ]
  },
  {
   "cell_type": "markdown",
   "metadata": {},
   "source": [
    "## Partida 1\n",
    "Nessa partida, $p=0.75$ e, consequentemente, $q=0.25$"
   ]
  },
  {
   "cell_type": "code",
   "execution_count": 2,
   "metadata": {},
   "outputs": [
    {
     "name": "stdout",
     "output_type": "stream",
     "text": [
      "120 0\n"
     ]
    }
   ],
   "source": [
    "simulate_matches('matches_1.csv', 0.7, 120)\n",
    "df_1 = pd.read_csv('matches_1.csv')"
   ]
  },
  {
   "cell_type": "code",
   "execution_count": 7,
   "metadata": {},
   "outputs": [
    {
     "name": "stdout",
     "output_type": "stream",
     "text": [
      "A won 100.00% of the matches\n",
      "B won 0.00% of the matches\n"
     ]
    }
   ],
   "source": [
    "def matches_won(df : pd.DataFrame):\n",
    "    a_matches = 0\n",
    "    b_matches = 0\n",
    "\n",
    "    for match in df['match'].unique():\n",
    "        df_match = df[df['match'] == match]\n",
    "\n",
    "        a_sets, b_sets = sets_won(df_match)\n",
    "\n",
    "        if (a_sets == 2 and b_sets == 0) or (a_sets == 2 and b_sets == 1):\n",
    "            a_matches += 1\n",
    "        else:\n",
    "            b_matches += 1\n",
    "    \n",
    "    return a_matches, b_matches\n",
    "\n",
    "a, b = matches_won(df_1)\n",
    "\n",
    "print(f'A won {100*a/(a+b):.2f}% of the matches')\n",
    "print(f'B won {100*b/(a+b):.2f}% of the matches')"
   ]
  },
  {
   "cell_type": "code",
   "execution_count": 6,
   "metadata": {},
   "outputs": [
    {
     "name": "stdout",
     "output_type": "stream",
     "text": [
      "A won 100.00% of the sets\n",
      "B won 0.00% of the sets\n"
     ]
    }
   ],
   "source": [
    "def sets_won(df : pd.DataFrame):\n",
    "    a_sets = 0\n",
    "    b_sets = 0\n",
    "\n",
    "    for match in df['match'].unique():\n",
    "        df_match = df[df['match'] == match]\n",
    "        for set in df_match['set'].unique():\n",
    "            df_set = df_match[df_match['set'] == set]\n",
    "            a_games, b_games = games_won(df_set)\n",
    "\n",
    "            if a_games == 7 or (a_games == 6 and b_games < 6):\n",
    "                a_sets += 1\n",
    "            else:\n",
    "                b_sets += 1\n",
    "        \n",
    "    return a_sets, b_sets\n",
    "\n",
    "a, b = sets_won(df_1)\n",
    "\n",
    "print(f'A won {100*a/(a+b):.2f}% of the sets')\n",
    "print(f'B won {100*b/(a+b):.2f}% of the sets')"
   ]
  },
  {
   "cell_type": "code",
   "execution_count": 5,
   "metadata": {},
   "outputs": [
    {
     "name": "stdout",
     "output_type": "stream",
     "text": [
      "A won 89.67% of the games\n",
      "B won 10.33% of the games\n"
     ]
    }
   ],
   "source": [
    "def games_won(df : pd.DataFrame):\n",
    "    a_games = len(df[df['state'] == 'win_a'])\n",
    "    b_games = len(df[df['state'] == 'win_b'])\n",
    "    return a_games, b_games\n",
    "\n",
    "a, b = games_won(df_1)\n",
    "\n",
    "print(f'A won {100*a/(a+b):.2f}% of the games')\n",
    "print(f'B won {100*b/(a+b):.2f}% of the games')"
   ]
  },
  {
   "cell_type": "code",
   "execution_count": 4,
   "metadata": {},
   "outputs": [
    {
     "name": "stdout",
     "output_type": "stream",
     "text": [
      "A scored 70.06% of the points\n",
      "B scored 29.94% of the points\n"
     ]
    }
   ],
   "source": [
    "def points_scored(df : pd.DataFrame):\n",
    "    a_points = len(df[df['point'] == 'a'])\n",
    "    b_points = len(df[df['point'] == 'b'])\n",
    "    return a_points, b_points\n",
    "\n",
    "a, b = points_scored(df_1)\n",
    "\n",
    "print(f'A scored {100*a/(a+b):.2f}% of the points')\n",
    "print(f'B scored {100*b/(a+b):.2f}% of the points')"
   ]
  },
  {
   "cell_type": "markdown",
   "metadata": {},
   "source": [
    "## Partida 2\n",
    "Agora, $p=0.55$ e $q=0.45$"
   ]
  },
  {
   "cell_type": "code",
   "execution_count": 16,
   "metadata": {},
   "outputs": [
    {
     "name": "stdout",
     "output_type": "stream",
     "text": [
      "59 61\n"
     ]
    }
   ],
   "source": [
    "simulate_matches('matches_2.csv', 0.5, 120)\n",
    "df_2 = pd.read_csv('matches_2.csv')"
   ]
  },
  {
   "cell_type": "code",
   "execution_count": 74,
   "metadata": {},
   "outputs": [
    {
     "name": "stdout",
     "output_type": "stream",
     "text": [
      "A won 50.31% of the games\n",
      "B won 49.69% of the games\n"
     ]
    }
   ],
   "source": [
    "a, b = games_won(df_2)\n",
    "\n",
    "print(f'A won {100*a/(a+b):.2f}% of the games')\n",
    "print(f'B won {100*b/(a+b):.2f}% of the games')"
   ]
  },
  {
   "cell_type": "code",
   "execution_count": 99,
   "metadata": {},
   "outputs": [
    {
     "name": "stdout",
     "output_type": "stream",
     "text": [
      "A won 46.47% of the sets\n",
      "B won 53.53% of the sets\n"
     ]
    }
   ],
   "source": [
    "a, b = sets_won(df_2)\n",
    "\n",
    "print(f'A won {100*a/(a+b):.2f}% of the sets')\n",
    "print(f'B won {100*b/(a+b):.2f}% of the sets')"
   ]
  },
  {
   "cell_type": "code",
   "execution_count": 212,
   "metadata": {},
   "outputs": [
    {
     "name": "stdout",
     "output_type": "stream",
     "text": [
      "A scored 55.13% of the points\n",
      "B scored 44.87% of the points\n"
     ]
    }
   ],
   "source": [
    "a, b = points_scored(df_2)\n",
    "\n",
    "print(f'A scored {100*a/(a+b):.2f}% of the points')\n",
    "print(f'B scored {100*b/(a+b):.2f}% of the points')"
   ]
  },
  {
   "cell_type": "code",
   "execution_count": 11,
   "metadata": {},
   "outputs": [
    {
     "name": "stdout",
     "output_type": "stream",
     "text": [
      "A won 85.00% of the matches\n",
      "B won 15.00% of the matches\n"
     ]
    }
   ],
   "source": [
    "a, b = matches_won(df_2)\n",
    "\n",
    "print(f'A won {100*a/(a+b):.2f}% of the matches')\n",
    "print(f'B won {100*b/(a+b):.2f}% of the matches')"
   ]
  }
 ],
 "metadata": {
  "interpreter": {
   "hash": "e7370f93d1d0cde622a1f8e1c04877d8463912d04d973331ad4851f04de6915a"
  },
  "kernelspec": {
   "display_name": "Python 3.10.2 64-bit",
   "language": "python",
   "name": "python3"
  },
  "language_info": {
   "codemirror_mode": {
    "name": "ipython",
    "version": 3
   },
   "file_extension": ".py",
   "mimetype": "text/x-python",
   "name": "python",
   "nbconvert_exporter": "python",
   "pygments_lexer": "ipython3",
   "version": "3.10.2"
  },
  "orig_nbformat": 4
 },
 "nbformat": 4,
 "nbformat_minor": 2
}
